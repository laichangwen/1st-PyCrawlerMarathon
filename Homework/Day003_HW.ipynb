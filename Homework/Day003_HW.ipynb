{
 "cells": [
  {
   "cell_type": "markdown",
   "metadata": {},
   "source": [
    "# Python 下載XML檔案與解析\n",
    "\n",
    "\n",
    "* 了解 xml 檔案格式與內容\n",
    "* 能夠利用套件存取 xml 格式的檔案\n"
   ]
  },
  {
   "cell_type": "markdown",
   "metadata": {},
   "source": [
    "## 作業目標\n",
    "\n",
    "* 比較一下範例檔案中的「File I/O」與「xmltodict」讀出來的內容有什麼差異\n",
    "\n",
    "* 根據範例檔案的結果：\n",
    "    1. 請問高雄市有多少地區有溫度資料？\n",
    "    2. 請取出每一個地區所記錄的第一個時間點跟溫度\n",
    "    3. 請取出第一個地區所記錄的每一個時間點跟溫度"
   ]
  },
  {
   "cell_type": "markdown",
   "metadata": {},
   "source": [
    "### 比較一下範例檔案中的「File I/O」與「xmltodict」讀出來的內容有什麼差異\n"
   ]
  },
  {
   "cell_type": "code",
   "execution_count": null,
   "metadata": {},
   "outputs": [],
   "source": [
    "with open(\"./data/64_72hr_CH.xml\", \"r\", encoding = 'utf-8') as fh:\n",
    "    xml = fh.read()\n",
    "print(xml)\n",
    "\n"
   ]
  },
  {
   "cell_type": "code",
   "execution_count": null,
   "metadata": {},
   "outputs": [],
   "source": [
    "import xmltodict\n",
    "with open(\"./data/64_72hr_CH.xml\", \"r\", encoding = 'utf-8') as fh:\n",
    "    d = dict(xmltodict.parse(fh.read()))\n",
    "print(d)"
   ]
  },
  {
   "cell_type": "markdown",
   "metadata": {},
   "source": [
    "### 根據範例檔案的結果：\n",
    "\n",
    "1. 請問高雄市有多少地區有溫度資料？\n",
    "2. 請取出每一個地區所記錄的第一個時間點跟溫度\n",
    "3. 請取出第一個地區所記錄的每一個時間點跟溫度"
   ]
  },
  {
   "cell_type": "code",
   "execution_count": 41,
   "metadata": {},
   "outputs": [
    {
     "name": "stdout",
     "output_type": "stream",
     "text": [
      "38\n",
      "['鹽埕區', '鼓山區', '左營區', '楠梓區', '三民區', '新興區', '前金區', '苓雅區', '前鎮區', '旗津區', '小港區', '鳳山區', '林園區', '大寮區', '大樹區', '大社區', '仁武區', '鳥松區', '岡山區', '橋頭區', '燕巢區', '田寮區', '阿蓮區', '路竹區', '湖內區', '茄萣區', '永安區', '彌陀區', '梓官區', '旗山區', '美濃區', '六龜區', '甲仙區', '杉林區', '內門區', '茂林區', '桃源區', '那瑪夏區']\n"
     ]
    }
   ],
   "source": [
    "# 1. 請問高雄市有多少地區有溫度資料？\n",
    "import xmltodict\n",
    "sec_list = []\n",
    "with open(\"./data/64_72hr_CH.xml\", \"r\", encoding = 'utf-8') as fh:\n",
    "    d = dict(xmltodict.parse(fh.read()))\n",
    "location = d['cwbopendata']['dataset']['locations']['location']\n",
    "\n",
    "count = 0\n",
    "for sec in location:\n",
    "    for weather in sec['weatherElement']:\n",
    "        if weather['description'] == '溫度' and sec['locationName'] not in sec_list:\n",
    "            count += 1\n",
    "            sec_list.append(sec['locationName'])\n",
    "        else:\n",
    "            continue\n",
    "print(count)\n"
   ]
  },
  {
   "cell_type": "code",
   "execution_count": 39,
   "metadata": {},
   "outputs": [
    {
     "name": "stdout",
     "output_type": "stream",
     "text": [
      "鹽埕區 2019-11-28T18:00:00+08:00 24\n",
      "鼓山區 2019-11-28T18:00:00+08:00 24\n",
      "左營區 2019-11-28T18:00:00+08:00 24\n",
      "楠梓區 2019-11-28T18:00:00+08:00 24\n",
      "三民區 2019-11-28T18:00:00+08:00 24\n",
      "新興區 2019-11-28T18:00:00+08:00 25\n",
      "前金區 2019-11-28T18:00:00+08:00 24\n",
      "苓雅區 2019-11-28T18:00:00+08:00 25\n",
      "前鎮區 2019-11-28T18:00:00+08:00 25\n",
      "旗津區 2019-11-28T18:00:00+08:00 24\n",
      "小港區 2019-11-28T18:00:00+08:00 25\n",
      "鳳山區 2019-11-28T18:00:00+08:00 25\n",
      "林園區 2019-11-28T18:00:00+08:00 25\n",
      "大寮區 2019-11-28T18:00:00+08:00 25\n",
      "大樹區 2019-11-28T18:00:00+08:00 24\n",
      "大社區 2019-11-28T18:00:00+08:00 24\n",
      "仁武區 2019-11-28T18:00:00+08:00 24\n",
      "鳥松區 2019-11-28T18:00:00+08:00 24\n",
      "岡山區 2019-11-28T18:00:00+08:00 24\n",
      "橋頭區 2019-11-28T18:00:00+08:00 24\n",
      "燕巢區 2019-11-28T18:00:00+08:00 23\n",
      "田寮區 2019-11-28T18:00:00+08:00 22\n",
      "阿蓮區 2019-11-28T18:00:00+08:00 22\n",
      "路竹區 2019-11-28T18:00:00+08:00 23\n",
      "湖內區 2019-11-28T18:00:00+08:00 22\n",
      "茄萣區 2019-11-28T18:00:00+08:00 22\n",
      "永安區 2019-11-28T18:00:00+08:00 22\n",
      "彌陀區 2019-11-28T18:00:00+08:00 23\n",
      "梓官區 2019-11-28T18:00:00+08:00 23\n",
      "旗山區 2019-11-28T18:00:00+08:00 22\n",
      "美濃區 2019-11-28T18:00:00+08:00 23\n",
      "六龜區 2019-11-28T18:00:00+08:00 20\n",
      "甲仙區 2019-11-28T18:00:00+08:00 19\n",
      "杉林區 2019-11-28T18:00:00+08:00 23\n",
      "內門區 2019-11-28T18:00:00+08:00 21\n",
      "茂林區 2019-11-28T18:00:00+08:00 21\n",
      "桃源區 2019-11-28T18:00:00+08:00 18\n",
      "那瑪夏區 2019-11-28T18:00:00+08:00 16\n",
      "38\n"
     ]
    }
   ],
   "source": [
    "# 2. 請取出每一個地區所記錄的第一個時間點跟溫度\n",
    "import xmltodict\n",
    "\n",
    "sec_list = []\n",
    "with open(\"./data/64_72hr_CH.xml\", \"r\", encoding = 'utf-8') as fh:\n",
    "    d = dict(xmltodict.parse(fh.read()))\n",
    "location = d['cwbopendata']['dataset']['locations']['location']\n",
    "\n",
    "for sec in location:\n",
    "    for weather in sec['weatherElement']:\n",
    "        if sec['locationName'] in sec_list:\n",
    "            continue\n",
    "        else:\n",
    "            if weather['description'] == '溫度':\n",
    "                print(sec['locationName'], weather['time'][0]['dataTime'], weather['time'][0]['elementValue']['value'])\n",
    "        sec_list.append(sec['locationName'])       \n",
    " "
   ]
  },
  {
   "cell_type": "code",
   "execution_count": 38,
   "metadata": {},
   "outputs": [
    {
     "name": "stdout",
     "output_type": "stream",
     "text": [
      "鹽埕區 2019-11-28T18:00:00+08:00 24\n",
      "鹽埕區 2019-11-28T21:00:00+08:00 23\n",
      "鹽埕區 2019-11-29T00:00:00+08:00 21\n",
      "鹽埕區 2019-11-29T03:00:00+08:00 20\n",
      "鹽埕區 2019-11-29T06:00:00+08:00 19\n",
      "鹽埕區 2019-11-29T09:00:00+08:00 22\n",
      "鹽埕區 2019-11-29T12:00:00+08:00 26\n",
      "鹽埕區 2019-11-29T15:00:00+08:00 26\n",
      "鹽埕區 2019-11-29T18:00:00+08:00 24\n",
      "鹽埕區 2019-11-29T21:00:00+08:00 22\n",
      "鹽埕區 2019-11-30T00:00:00+08:00 21\n",
      "鹽埕區 2019-11-30T03:00:00+08:00 21\n",
      "鹽埕區 2019-11-30T06:00:00+08:00 20\n",
      "鹽埕區 2019-11-30T09:00:00+08:00 22\n",
      "鹽埕區 2019-11-30T12:00:00+08:00 25\n",
      "鹽埕區 2019-11-30T15:00:00+08:00 25\n",
      "鹽埕區 2019-11-30T18:00:00+08:00 24\n",
      "鹽埕區 2019-11-30T21:00:00+08:00 22\n",
      "鹽埕區 2019-12-01T00:00:00+08:00 21\n",
      "鹽埕區 2019-12-01T03:00:00+08:00 21\n",
      "鹽埕區 2019-12-01T06:00:00+08:00 20\n",
      "鹽埕區 2019-12-01T09:00:00+08:00 22\n",
      "鹽埕區 2019-12-01T12:00:00+08:00 26\n",
      "鹽埕區 2019-12-01T15:00:00+08:00 26\n"
     ]
    }
   ],
   "source": [
    "# 3. 請取出第一個地區所記錄的每一個時間點跟溫度\n",
    "import xmltodict\n",
    "\n",
    "sec_list = []\n",
    "with open(\"./data/64_72hr_CH.xml\", \"r\", encoding = 'utf-8') as fh:\n",
    "    d = dict(xmltodict.parse(fh.read()))\n",
    "location = d['cwbopendata']['dataset']['locations']['location']\n",
    "\n",
    "for sec in location:\n",
    "    for weather in sec['weatherElement']:\n",
    "        if sec['locationName'] in sec_list:\n",
    "            continue\n",
    "        elif len(sec_list) > 0:\n",
    "            continue\n",
    "        else:\n",
    "            if weather['description'] == '溫度':\n",
    "                for time in weather['time']:\n",
    "                    print(sec['locationName'], time['dataTime'], time['elementValue']['value'])\n",
    "        sec_list.append(sec['locationName']) "
   ]
  },
  {
   "cell_type": "code",
   "execution_count": null,
   "metadata": {},
   "outputs": [],
   "source": []
  }
 ],
 "metadata": {
  "kernelspec": {
   "display_name": "Python 3",
   "language": "python",
   "name": "python3"
  },
  "language_info": {
   "codemirror_mode": {
    "name": "ipython",
    "version": 3
   },
   "file_extension": ".py",
   "mimetype": "text/x-python",
   "name": "python",
   "nbconvert_exporter": "python",
   "pygments_lexer": "ipython3",
   "version": "3.7.4"
  }
 },
 "nbformat": 4,
 "nbformat_minor": 2
}
